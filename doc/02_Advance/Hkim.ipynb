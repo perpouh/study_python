{
 "nbformat": 4,
 "nbformat_minor": 2,
 "metadata": {
  "language_info": {
   "name": "python",
   "codemirror_mode": {
    "name": "ipython",
    "version": 3
   },
   "version": "3.6.5-final"
  },
  "orig_nbformat": 2,
  "file_extension": ".py",
  "mimetype": "text/x-python",
  "name": "python",
  "npconvert_exporter": "python",
  "pygments_lexer": "ipython3",
  "version": 3,
  "kernelspec": {
   "name": "python36564bit365pyenvdd4a8be56d1d4fe182f5c3509b0d0ff4",
   "display_name": "Python 3.6.5 64-bit ('3.6.5': pyenv)"
  }
 },
 "cells": [
  {
   "cell_type": "markdown",
   "execution_count": null,
   "metadata": {},
   "outputs": [],
   "source": [
    "## ホクホクのイモ\n",
    "\n",
    "概要:\n",
    "\n",
    " 1. 「ホ」「ク」「イ」「モ」の四文字から\n",
    " 2. ランダムに二文字を選定して並べて二度繰り返す(ABAB)\n",
    " 3. 「の」を2の文字列の末尾に追加する(ABABの)\n",
    " 4. 再びランダムに二文字を選定、文字列の末尾に追加する(ABABのCD)"
   ]
  },
  {
   "cell_type": "code",
   "execution_count": 4,
   "metadata": {},
   "outputs": [
    {
     "name": "stdout",
     "output_type": "stream",
     "text": "モクモクのモホ\n"
    }
   ],
   "source": [
    "import random\n",
    "\n",
    "# ABAB\n",
    "hkim = [\"ホ\",\"ク\",\"イ\",\"モ\"]\n",
    "random.shuffle(hkim)\n",
    "s = hkim[0:2] * 2\n",
    "\n",
    "# ABABの\n",
    "s += \"の\"\n",
    "\n",
    "# ABABのCD\n",
    "random.shuffle(hkim)\n",
    "s += hkim[0:2]\n",
    "\n",
    "# 出力\n",
    "print(''.join(s))"
   ]
  },
  {
   "cell_type": "markdown",
   "execution_count": null,
   "metadata": {},
   "outputs": [],
   "source": [
    "## random.shuffle\n",
    "\n",
    "イミュータブルなシーケンスをシャッフルする破壊メソッド。  \n",
    "\n",
    "```python\n",
    "[\"ホ\",\"ク\",\"イ\",\"モ\"][int(random.random() * 10) // 4]\n",
    "```\n",
    "\n",
    "とかでも似た結果を出せなくはないのだけどなにしろコードがダサい。ホホホホとか出るのも嫌。  \n",
    "[random.shuffle 公式ドキュメント](https://docs.python.org/ja/3/library/random.html#random.shuffle)\n",
    "\n",
    "シャッフルとランダムは根本的には違うもので、シャッフルが物理ガチャ、ランダムがソシャゲガチャです（ハズレが常に補充されるため100回回しても排出率1%のものが出るとは限らない）  \n",
    "ちなみにソシャゲガチャを100回回して排出率1%のものが出る確率は以下。"
   ]
  },
  {
   "cell_type": "code",
   "execution_count": 5,
   "metadata": {},
   "outputs": [
    {
     "data": {
      "text/plain": "63.396765872677086"
     },
     "execution_count": 5,
     "metadata": {},
     "output_type": "execute_result"
    }
   ],
   "source": [
    "(1 - (0.99 ** 100)) * 100"
   ]
  },
  {
   "cell_type": "markdown",
   "execution_count": null,
   "metadata": {},
   "outputs": [],
   "source": [
    "### おまけのガチャシミュレータ\n",
    "\n",
    "おまけのおまけでカリー化"
   ]
  },
  {
   "cell_type": "code",
   "execution_count": 23,
   "metadata": {},
   "outputs": [
    {
     "name": "stdout",
     "output_type": "stream",
     "text": "100回ガチャを回して目当てのものが出る確率は63.396765872677086%です\n"
    }
   ],
   "source": [
    "def simulation(rate, times):\n",
    "  losing_rate = (100 - rate) / 100\n",
    "  winning_rate = (1 - (losing_rate ** 100)) * times\n",
    "  print(str(times) + \"回ガチャを回して目当てのものが出る確率は\" + str(winning_rate) + \"%です\")\n",
    "\n",
    "def rate(rate):\n",
    "  def process(times):\n",
    "    return simulation(rate, times)\n",
    "  return process\n",
    "\n",
    "simurate = rate(1) # 排出率1%\n",
    "simurate(100) # 100回回す"
   ]
  }
 ]
}