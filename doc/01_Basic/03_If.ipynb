{
 "nbformat": 4,
 "nbformat_minor": 2,
 "metadata": {
  "language_info": {
   "name": "python",
   "codemirror_mode": {
    "name": "ipython",
    "version": 3
   },
   "version": "3.6.5-final"
  },
  "orig_nbformat": 2,
  "file_extension": ".py",
  "mimetype": "text/x-python",
  "name": "python",
  "npconvert_exporter": "python",
  "pygments_lexer": "ipython3",
  "version": 3,
  "kernelspec": {
   "name": "python36564bit365pyenvdd4a8be56d1d4fe182f5c3509b0d0ff4",
   "display_name": "Python 3.6.5 64-bit ('3.6.5': pyenv)"
  }
 },
 "cells": [
  {
   "cell_type": "markdown",
   "execution_count": null,
   "metadata": {},
   "outputs": [],
   "source": [
    "## 基本"
   ]
  },
  {
   "cell_type": "code",
   "execution_count": 5,
   "metadata": {},
   "outputs": [
    {
     "name": "stdout",
     "output_type": "stream",
     "text": "Else\n"
    }
   ],
   "source": [
    "import random\n",
    "i = int(random.random() * 10)\n",
    "\n",
    "if i % 4 == 0:\n",
    "  print(\"Multiples of 4\")\n",
    "elif i % 3 == 0:\n",
    "  print(\"Multiples of 3\")\n",
    "else:\n",
    "  print(\"Else\")"
   ]
  },
  {
   "cell_type": "markdown",
   "execution_count": null,
   "metadata": {},
   "outputs": [],
   "source": [
    "## 後置if\n",
    "\n",
    "else節が無いとエラーになるので注意。  \n",
    "後置ifで `else do` が入るのすっげえ違和感あるけど……"
   ]
  },
  {
   "cell_type": "code",
   "execution_count": 8,
   "metadata": {},
   "outputs": [
    {
     "name": "stdout",
     "output_type": "stream",
     "text": "even\n"
    }
   ],
   "source": [
    "print(\"odd\") if i % 2 != 0 else print(\"even\")"
   ]
  },
  {
   "cell_type": "markdown",
   "execution_count": null,
   "metadata": {},
   "outputs": [],
   "source": [
    "参考: [Stop Using Else in Your Programs](https://medium.com/better-programming/why-you-need-to-stop-using-else-statements-5b1fd09dea9e)"
   ]
  }
 ]
}