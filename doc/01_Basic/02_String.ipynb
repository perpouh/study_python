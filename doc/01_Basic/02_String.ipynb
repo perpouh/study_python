{
 "nbformat": 4,
 "nbformat_minor": 2,
 "metadata": {
  "language_info": {
   "name": "python",
   "codemirror_mode": {
    "name": "ipython",
    "version": 3
   },
   "version": "3.6.5-final"
  },
  "orig_nbformat": 2,
  "file_extension": ".py",
  "mimetype": "text/x-python",
  "name": "python",
  "npconvert_exporter": "python",
  "pygments_lexer": "ipython3",
  "version": 3,
  "kernelspec": {
   "name": "python36564bit365pyenvdd4a8be56d1d4fe182f5c3509b0d0ff4",
   "display_name": "Python 3.6.5 64-bit ('3.6.5': pyenv)"
  }
 },
 "cells": [
  {
   "cell_type": "markdown",
   "execution_count": null,
   "metadata": {},
   "outputs": [],
   "source": [
    "## 基本"
   ]
  },
  {
   "cell_type": "code",
   "execution_count": 10,
   "metadata": {},
   "outputs": [
    {
     "name": "stdout",
     "output_type": "stream",
     "text": "string\nmultiline\nstring\n\n6\n"
    }
   ],
   "source": [
    "str = 'string'\n",
    "print(str)\n",
    "\n",
    "multiline_str = '''multiline\n",
    "string\n",
    "'''\n",
    "print(multiline_str)\n",
    "\n",
    "print(len('string'))"
   ]
  },
  {
   "cell_type": "markdown",
   "execution_count": null,
   "metadata": {},
   "outputs": [],
   "source": [
    "## 文字列連結"
   ]
  },
  {
   "cell_type": "code",
   "execution_count": 19,
   "metadata": {},
   "outputs": [
    {
     "name": "stdout",
     "output_type": "stream",
     "text": "HelloWorld\nHelloWorld\n"
    }
   ],
   "source": [
    "print(\"Hello\" + \"World\")\n",
    "print(\"Hello\" \"World\")"
   ]
  },
  {
   "cell_type": "code",
   "execution_count": 14,
   "metadata": {},
   "outputs": [
    {
     "data": {
      "text/plain": "'eeeeeeeeeeeeeeeeeeeeeeeeeeeeeeeeeeeeeeeeeeeeeeeeeeeeeeeeeeeeeeeeeeeeeeeeeeeeeeeeeeeeeeeeeeeeeeeeeeee'"
     },
     "execution_count": 14,
     "metadata": {},
     "output_type": "execute_result"
    }
   ],
   "source": [
    "\"e\" * 100"
   ]
  },
  {
   "cell_type": "markdown",
   "execution_count": 12,
   "metadata": {},
   "outputs": [
    {
     "ename": "SyntaxError",
     "evalue": "invalid syntax (<ipython-input-12-d2c086f0331a>, line 3)",
     "output_type": "error",
     "traceback": [
      "\u001b[0;36m  File \u001b[0;32m\"<ipython-input-12-d2c086f0331a>\"\u001b[0;36m, line \u001b[0;32m3\u001b[0m\n\u001b[0;31m    eeeeeeeeeeeeeeeeeeeeeeeeeeeeeeeeeeeeeeeeeeeeeeeeeeeeeeeeeeeeeeeeeeeeeeeeeeeeeeeeeeeeeeeeeeeeeeeeeeee](https://github.com/eeeeeeeeeeeeeeeeeeeeeeeeeeeeeeee/eeeeeeeeeeeeeeeeeeeeeeeeeeeeeeeeeeeeeeeeeeeeeeeeeeeeeeeeeeeeeeeeeeeeeeeeeeeeeeeeeeeeeeeeeeeeeeeeeeee)\u001b[0m\n\u001b[0m                                                                                                               ^\u001b[0m\n\u001b[0;31mSyntaxError\u001b[0m\u001b[0;31m:\u001b[0m invalid syntax\n"
     ]
    }
   ],
   "source": [
    "元ネタ: [eeeeeeeeeeeeeeeeeeeeeeeeeeeeeeee\n",
    "/\n",
    "eeeeeeeeeeeeeeeeeeeeeeeeeeeeeeeeeeeeeeeeeeeeeeeeeeeeeeeeeeeeeeeeeeeeeeeeeeeeeeeeeeeeeeeeeeeeeeeeeeee](https://github.com/eeeeeeeeeeeeeeeeeeeeeeeeeeeeeeee/eeeeeeeeeeeeeeeeeeeeeeeeeeeeeeeeeeeeeeeeeeeeeeeeeeeeeeeeeeeeeeeeeeeeeeeeeeeeeeeeeeeeeeeeeeeeeeeeeeee)"
   ]
  },
  {
   "cell_type": "markdown",
   "execution_count": null,
   "metadata": {},
   "outputs": [],
   "source": [
    "## 文字列のスライス"
   ]
  },
  {
   "cell_type": "code",
   "execution_count": 16,
   "metadata": {},
   "outputs": [
    {
     "name": "stdout",
     "output_type": "stream",
     "text": "東\n許\n局\n許\n"
    }
   ],
   "source": [
    "str = \"東京特許許可局\"\n",
    "print(str[0])\n",
    "print(str[3])\n",
    "print(str[-1])\n",
    "print(str[-3])"
   ]
  },
  {
   "cell_type": "markdown",
   "execution_count": null,
   "metadata": {},
   "outputs": [],
   "source": [
    "### \\[start:end:step\\]によるスライス\n",
    "\n",
    " - `[:]` は文字列の先頭から末尾まですべてを取り出す（やる意味がわからない）  \n",
    " - `[start:]` はstartから文字列の末尾までを取り出す。  \n",
    " - `[:end]` は文字列の先頭からend **の前** までを取り出す。10と指定した場合9まで。\n",
    " - ステップに負の値を設定すると逆にステップしていく。"
   ]
  },
  {
   "cell_type": "code",
   "execution_count": 2,
   "metadata": {},
   "outputs": [
    {
     "name": "stdout",
     "output_type": "stream",
     "text": "東特許局\n東京特許許可局\n局可許許特京東\n局許特東\n"
    }
   ],
   "source": [
    "str = \"東京特許許可局\"\n",
    "print(str[0::2])\n",
    "print(str[0:])\n",
    "print(str[-1::-1])\n",
    "print(str[-1::-2])"
   ]
  },
  {
   "cell_type": "markdown",
   "execution_count": null,
   "metadata": {},
   "outputs": [],
   "source": [
    "## split, join"
   ]
  },
  {
   "cell_type": "code",
   "execution_count": 30,
   "metadata": {},
   "outputs": [
    {
     "name": "stdout",
     "output_type": "stream",
     "text": "['a', 'b', 'c']\na,b,c\n"
    }
   ],
   "source": [
    "print(\"a,b,c\".split(','))\n",
    "print(\",\".join([\"a\", \"b\", \"c\"]))"
   ]
  },
  {
   "cell_type": "markdown",
   "execution_count": null,
   "metadata": {},
   "outputs": [],
   "source": [
    "## 大文字と小文字の区別、配置"
   ]
  },
  {
   "cell_type": "code",
   "execution_count": 7,
   "metadata": {},
   "outputs": [
    {
     "name": "stdout",
     "output_type": "stream",
     "text": "original:   Come, woo me, woo me, for now I am in a holiday humor.\nstrip:      Come, woo me, woo me, for now I am in a holiday humor\ncapitalize: Come, woo me, woo me, for now i am in a holiday humor.\ntitle:      Come, Woo Me, Woo Me, For Now I Am In A Holiday Humor.\nupper:      COME, WOO ME, WOO ME, FOR NOW I AM IN A HOLIDAY HUMOR.\nlower:      come, woo me, woo me, for now i am in a holiday humor.\nswapcase:   cOME, WOO ME, WOO ME, FOR NOW i AM IN A HOLIDAY HUMOR.\n"
    }
   ],
   "source": [
    "str = \"Come, woo me, woo me, for now I am in a holiday humor.\"\n",
    "print(\"original:   \" + str)\n",
    "print(\"strip:      \" + str.strip('.'))\n",
    "print(\"capitalize: \" + str.capitalize()) # 文頭だけを大文字にする\n",
    "print(\"title:      \" + str.title()) #全ての単語を大文字で始める\n",
    "print(\"upper:      \" + str.upper())\n",
    "print(\"lower:      \" + str.lower())\n",
    "print(\"swapcase:   \" + str.swapcase())"
   ]
  },
  {
   "cell_type": "markdown",
   "execution_count": null,
   "metadata": {},
   "outputs": [],
   "source": [
    "## 文字列の検査"
   ]
  },
  {
   "cell_type": "code",
   "execution_count": 20,
   "metadata": {},
   "outputs": [
    {
     "name": "stdout",
     "output_type": "stream",
     "text": "True\nTrue\nFalse\nFalse\nFalse\nFalse\n"
    }
   ],
   "source": [
    "str = \"Come, woo me, woo me, for now I am in a holiday humor.\"\n",
    "print(str.startswith(\"Come\"))\n",
    "print(str.endswith(\"humor.\"))\n",
    "print(str.isalpha())\n",
    "print(str.isalnum())\n",
    "print(str.isidentifier()) # Pythonの変数名として使えるならTrue、そうでなければFalseを返す。\n",
    "print(str.isupper())"
   ]
  },
  {
   "cell_type": "markdown",
   "execution_count": null,
   "metadata": {},
   "outputs": [],
   "source": [
    "### 検索、置換"
   ]
  },
  {
   "cell_type": "code",
   "execution_count": 24,
   "metadata": {},
   "outputs": [
    {
     "name": "stdout",
     "output_type": "stream",
     "text": "3\n2\n18\n2\n18\nComeme, woo meme, woo meme, for now I am in a holiday humor.\n"
    }
   ],
   "source": [
    "str = \"Come, woo me, woo me, for now I am in a holiday humor.\"\n",
    "print(str.count(\"me\"))\n",
    "print(str.find(\"me\")) # ゼロ始まり（しかしComeのmeだなこれ）\n",
    "print(str.rfind(\"me\"))\n",
    "print(str.index(\"me\"))\n",
    "print(str.rindex(\"me\"))\n",
    "print(str.replace(\"me\", \"meme\"))"
   ]
  },
  {
   "cell_type": "markdown",
   "execution_count": null,
   "metadata": {},
   "outputs": [],
   "source": [
    "## よくわからないアレ"
   ]
  },
  {
   "cell_type": "code",
   "execution_count": 25,
   "metadata": {},
   "outputs": [
    {
     "name": "stdout",
     "output_type": "stream",
     "text": "Ellipsis\nEllipsis\n"
    }
   ],
   "source": [
    "print(...)\n",
    "print(Ellipsis)"
   ]
  }
 ]
}