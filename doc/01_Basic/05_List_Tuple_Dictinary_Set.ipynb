{
 "nbformat": 4,
 "nbformat_minor": 2,
 "metadata": {
  "language_info": {
   "name": "python",
   "codemirror_mode": {
    "name": "ipython",
    "version": 3
   },
   "version": "3.6.5-final"
  },
  "orig_nbformat": 2,
  "file_extension": ".py",
  "mimetype": "text/x-python",
  "name": "python",
  "npconvert_exporter": "python",
  "pygments_lexer": "ipython3",
  "version": 3,
  "kernelspec": {
   "name": "python36564bit365pyenvdd4a8be56d1d4fe182f5c3509b0d0ff4",
   "display_name": "Python 3.6.5 64-bit ('3.6.5': pyenv)"
  }
 },
 "cells": [
  {
   "cell_type": "markdown",
   "execution_count": null,
   "metadata": {},
   "outputs": [],
   "source": [
    "## リストとタプルと辞書と集合\n",
    "\n",
    "|名前|書式|注釈|\n",
    "|---|---|---|\n",
    "|リスト|\\[val\\]|順番が保証される。重複した値も許可する。上書き可能。|\n",
    "|タプル|(val)|順番が保証される。重複した値も許可する。上書きできない。|\n",
    "|辞書|{key:val}|順番は保証されない。キーが一意となる。上書き可能。|\n",
    "|集合|{val}|順番は保証されない。重複した値は入らない。上書き可能。|\n",
    "\n",
    "## 基本"
   ]
  },
  {
   "cell_type": "code",
   "execution_count": 28,
   "metadata": {},
   "outputs": [
    {
     "name": "stdout",
     "output_type": "stream",
     "text": "4\n1\nTrue\n3\n['diamond', 'perl', 'ruby', 'sapphire']\n"
    }
   ],
   "source": [
    "arr = ['ruby', 'sapphire', 'perl', 'diamond']\n",
    "# 要素数\n",
    "print(len(arr))\n",
    "# 一致する要素のカウント\n",
    "print(arr.count('ruby'))\n",
    "# 一致する要素の有無\n",
    "print('ruby' in arr)\n",
    "# 一致する要素の位置\n",
    "print(arr.index('diamond'))\n",
    "# ソート\n",
    "arr.sort()\n",
    "print(arr)"
   ]
  },
  {
   "cell_type": "markdown",
   "execution_count": null,
   "metadata": {},
   "outputs": [],
   "source": [
    "### リストへの追加削除"
   ]
  },
  {
   "cell_type": "code",
   "execution_count": 2,
   "metadata": {},
   "outputs": [
    {
     "name": "stdout",
     "output_type": "stream",
     "text": "6\n['ruby', 'sapphire', 'silver', 'perl', 'diamond', 'gold']\nsapphire\n4\n['ruby', 'silver', 'diamond', 'gold']\n"
    }
   ],
   "source": [
    "arr = ['ruby', 'sapphire', 'perl', 'diamond']\n",
    "arr.append('gold')\n",
    "arr.insert(2, 'silver')\n",
    "print(len(arr))\n",
    "print(arr)\n",
    "\n",
    "arr.remove('perl')\n",
    "popped = arr.pop(1) # 個数じゃなくまさかの位置。popなのに。\n",
    "print(popped)\n",
    "print(len(arr))\n",
    "print(arr)"
   ]
  },
  {
   "cell_type": "markdown",
   "execution_count": null,
   "metadata": {},
   "outputs": [],
   "source": [
    "### リストの比較"
   ]
  },
  {
   "cell_type": "code",
   "execution_count": 34,
   "metadata": {},
   "outputs": [
    {
     "data": {
      "text/plain": "True"
     },
     "execution_count": 34,
     "metadata": {},
     "output_type": "execute_result"
    }
   ],
   "source": [
    "[0, 1, 2] == [0, 1, 2]"
   ]
  },
  {
   "cell_type": "markdown",
   "execution_count": null,
   "metadata": {},
   "outputs": [],
   "source": [
    "### リスト内包表記\n",
    "\n",
    "リストの内容について同じ処理を繰り返すみたいなものがサクッと書ける便利なやつ。"
   ]
  },
  {
   "cell_type": "code",
   "execution_count": 4,
   "metadata": {},
   "outputs": [
    {
     "name": "stdout",
     "output_type": "stream",
     "text": "[1, 2, 3, 4, 5, 6, 7, 8, 9]\n[1.0, 2.0, 3.0, 4.0]\n[0, 2, 4, 6, 8, 10]\n"
    }
   ],
   "source": [
    "# シンプルな例\n",
    "print([i for i in range(1, 10)])\n",
    "\n",
    "# 後置ifと併せた例\n",
    "print([i/2 for i in range(1, 10) if i%2==0])\n",
    "\n",
    "arr = []\n",
    "for i in [j for j in range(0, 11, 2)]:\n",
    "  arr.append(i)\n",
    "\n",
    "print(arr)"
   ]
  },
  {
   "cell_type": "code",
   "execution_count": null,
   "metadata": {},
   "outputs": [],
   "source": []
  }
 ]
}