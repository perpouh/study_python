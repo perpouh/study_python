{
 "nbformat": 4,
 "nbformat_minor": 2,
 "metadata": {
  "language_info": {
   "name": "python",
   "codemirror_mode": {
    "name": "ipython",
    "version": 3
   },
   "version": "3.6.5-final"
  },
  "orig_nbformat": 2,
  "file_extension": ".py",
  "mimetype": "text/x-python",
  "name": "python",
  "npconvert_exporter": "python",
  "pygments_lexer": "ipython3",
  "version": 3,
  "kernelspec": {
   "name": "python36564bit365pyenvdd4a8be56d1d4fe182f5c3509b0d0ff4",
   "display_name": "Python 3.6.5 64-bit ('3.6.5': pyenv)"
  }
 },
 "cells": [
  {
   "cell_type": "code",
   "execution_count": null,
   "metadata": {},
   "outputs": [],
   "source": []
  },
  {
   "cell_type": "markdown",
   "execution_count": null,
   "metadata": {},
   "outputs": [],
   "source": [
    "## range\n",
    "曲者。  \n",
    "引数がひとつのときとふたつ以上のときで第一引数の意味が変わってくる。"
   ]
  },
  {
   "cell_type": "code",
   "execution_count": 1,
   "metadata": {},
   "outputs": [
    {
     "name": "stdout",
     "output_type": "stream",
     "text": "[0, 1, 2, 3, 4, 5, 6, 7, 8, 9]\n[5, 6, 7, 8, 9]\n[5, 7, 9]\n"
    }
   ],
   "source": [
    "arr = []\n",
    "# 第一引数はおそらく数量ではなくend（0始まりだと値がおなじになるので不明）\n",
    "for i in range(10):\n",
    "  arr.append(i)\n",
    "\n",
    "print(arr)\n",
    "arr = []\n",
    "\n",
    "# 第一引数はstart, 第二引数は数量ではなくend, かつ「end未満」が出る\n",
    "for i in range(5, 10):\n",
    "  arr.append(i)\n",
    "\n",
    "print(arr)\n",
    "arr = []\n",
    "\n",
    "# 第三引数はstep\n",
    "for i in range(5, 10, 2): \n",
    "  arr.append(i)\n",
    "\n",
    "print(arr)"
   ]
  },
  {
   "cell_type": "code",
   "execution_count": null,
   "metadata": {},
   "outputs": [],
   "source": []
  }
 ]
}