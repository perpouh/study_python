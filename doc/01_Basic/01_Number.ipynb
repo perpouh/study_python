{
 "nbformat": 4,
 "nbformat_minor": 2,
 "metadata": {
  "language_info": {
   "name": "python",
   "codemirror_mode": {
    "name": "ipython",
    "version": 3
   },
   "version": "3.6.5-final"
  },
  "orig_nbformat": 2,
  "file_extension": ".py",
  "mimetype": "text/x-python",
  "name": "python",
  "npconvert_exporter": "python",
  "pygments_lexer": "ipython3",
  "version": 3,
  "kernelspec": {
   "name": "python36564bit365pyenvdd4a8be56d1d4fe182f5c3509b0d0ff4",
   "display_name": "Python 3.6.5 64-bit ('3.6.5': pyenv)"
  }
 },
 "cells": [
  {
   "cell_type": "markdown",
   "execution_count": null,
   "metadata": {},
   "outputs": [],
   "source": [
    "## 四則演算\n",
    "\n",
    "|演算子|意味|例|結果|\n",
    "|:---:|:---|:---:|:---:|\n",
    "|+|加算|1 + 2|3|\n",
    "|-|減算|1 - 2|-1|\n",
    "|\\*|乗算|1 \\* 2|2|\n",
    "|/|浮動小数点数の除算|1 / 2|0.5|\n",
    "|//|整数の除算（切り捨て）|1 // 2|0|\n",
    "|%|剰余|1 % 2|1|\n",
    "|\\**|指数|1 \\** 2|1|"
   ]
  },
  {
   "cell_type": "markdown",
   "execution_count": null,
   "metadata": {},
   "outputs": [],
   "source": [
    "## 基数\n",
    "基本的な基数は10であるが、2, 8, 16なども使用できる。"
   ]
  },
  {
   "cell_type": "code",
   "execution_count": 1,
   "metadata": {},
   "outputs": [
    {
     "name": "stdout",
     "output_type": "stream",
     "text": "2\n8\n16\n"
    }
   ],
   "source": [
    "print(0b10)\n",
    "print(0o10)\n",
    "print(0x10)"
   ]
  },
  {
   "cell_type": "markdown",
   "execution_count": null,
   "metadata": {},
   "outputs": [],
   "source": [
    "## \\_による桁区切り"
   ]
  },
  {
   "cell_type": "code",
   "execution_count": 2,
   "metadata": {},
   "outputs": [
    {
     "name": "stdout",
     "output_type": "stream",
     "text": "9999999\n"
    }
   ],
   "source": [
    "i = 9_999_999\n",
    "print(i)"
   ]
  },
  {
   "cell_type": "markdown",
   "execution_count": 5,
   "metadata": {},
   "outputs": [
    {
     "name": "stdout",
     "output_type": "stream",
     "text": "Ellipsis\nEllipsis\n"
    }
   ],
   "source": [
    "## Numpy"
   ]
  },
  {
   "cell_type": "code",
   "execution_count": null,
   "metadata": {},
   "outputs": [],
   "source": []
  }
 ]
}